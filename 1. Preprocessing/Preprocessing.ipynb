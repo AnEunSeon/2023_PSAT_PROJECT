{
 "cells": [
  {
   "cell_type": "code",
   "execution_count": null,
   "id": "44d3d20a",
   "metadata": {},
   "outputs": [],
   "source": [
    "from selenium import webdriver\n",
    "from selenium.webdriver.common.by import By\n",
    "from selenium.webdriver.common.keys import Keys\n",
    "from selenium.webdriver.support.select import Select\n",
    "from urllib import parse\n",
    "import time\n",
    "import pandas as pd\n",
    "import numpy as np\n",
    "import re\n",
    "from tqdm import tqdm"
   ]
  },
  {
   "cell_type": "code",
   "execution_count": null,
   "id": "8d150d52",
   "metadata": {},
   "outputs": [],
   "source": [
    "#chrome driver가 설치될 파일 경로 확인\n",
    "import os\n",
    "os.getcwd()"
   ]
  },
  {
   "cell_type": "code",
   "execution_count": null,
   "id": "64ea1af1",
   "metadata": {},
   "outputs": [],
   "source": [
    "#크롤링할 사이트 불러오기\n",
    "driver = webdriver.Chrome()\n",
    "driver.maximize_window()\n",
    "driver.get('https://taas.koroad.or.kr/gis/mcm/mcl/initMap.do?menuId=GIS_GMP_STS_RSN')\n",
    "time.sleep(1)"
   ]
  },
  {
   "cell_type": "code",
   "execution_count": null,
   "id": "c56fae1c",
   "metadata": {},
   "outputs": [],
   "source": [
    "#사고년도 설정 (2021년)\n",
    "year_start=driver.find_element(By.XPATH, '//*[@id=\"ptsRafYearStart\"]/option[3]')\n",
    "year_start.click()\n",
    "year_end=driver.find_element(By.XPATH, '//*[@id=\"ptsRafYearEnd\"]/option[3]')\n",
    "year_end.click()"
   ]
  },
  {
   "cell_type": "code",
   "execution_count": null,
   "id": "3ad2c714",
   "metadata": {},
   "outputs": [],
   "source": [
    "#지역(제주도) 설정\n",
    "region=driver.find_element(By.XPATH, '//*[@id=\"ptsRafSido\"]/option[17]')\n",
    "region.click()"
   ]
  },
  {
   "cell_type": "code",
   "execution_count": null,
   "id": "fa151b92",
   "metadata": {},
   "outputs": [],
   "source": [
    "#제주도 지역 전체 설정\n",
    "select=driver.find_element(By.XPATH, '//*[@id=\"ptsRafSigungu\"]/option[1]')\n",
    "select.click()"
   ]
  },
  {
   "cell_type": "code",
   "execution_count": null,
   "id": "387d47f8",
   "metadata": {},
   "outputs": [],
   "source": [
    "#모든 사고 유형 선택\n",
    "acc=driver.find_element(By.XPATH, '//*[@id=\"ptsRafCh1AccidentContent\"]/li[2]/input')\n",
    "acc.click()\n",
    "acc=driver.find_element(By.XPATH, '//*[@id=\"ptsRafCh1AccidentContent\"]/li[3]/input')\n",
    "acc.click()\n",
    "acc=driver.find_element(By.XPATH, '//*[@id=\"ptsRafCh1AccidentContent\"]/li[4]/input')\n",
    "acc.click()"
   ]
  },
  {
   "cell_type": "code",
   "execution_count": null,
   "id": "118b798d",
   "metadata": {},
   "outputs": [],
   "source": [
    "#사고부문 선택 (어린이 관련 사고로 한정)\n",
    "opt=driver.find_element(By.XPATH,'//*[@id=\"ptsRafSimpleCondition\"]/option[16]')\n",
    "opt.click()"
   ]
  },
  {
   "cell_type": "code",
   "execution_count": null,
   "id": "984fe162",
   "metadata": {},
   "outputs": [],
   "source": [
    "#검색\n",
    "driver.find_element(By.XPATH, '//*[@id=\"regionAccidentFind\"]/div[2]/p/a').send_keys(Keys.ENTER)"
   ]
  },
  {
   "cell_type": "code",
   "execution_count": null,
   "id": "04e56bed",
   "metadata": {},
   "outputs": [],
   "source": [
    "#건수 확인\n",
    "cnt=(driver.find_element(By.XPATH, '//*[@id=\"regionAccidentFind\"]/div[3]/div[1]/span').text)\n",
    "cnt=int(tn.replace(\",\",\"\"))"
   ]
  },
  {
   "cell_type": "code",
   "execution_count": null,
   "id": "ff6c102a",
   "metadata": {},
   "outputs": [],
   "source": [
    "#크롤링 함수 정의\n",
    "#coord_ls는 좌표계, srs_ls는 좌표계 종류를 의미하는 리스트\n",
    "def crawling(num):\n",
    "    coord_ls = []\n",
    "    srs_ls = []\n",
    "    for i in tqdm(range(0,num)):\n",
    "        driver.execute_script(f'gis.srh.msh.selectListUi({i}, 11);') # 개별 사고지점\n",
    "        time.sleep(1) # 로드\n",
    "        bbox = driver.find_elements(By.CLASS_NAME,'olTileImage')[-1]\n",
    "        src = parse.unquote(bbox.get_attribute('src')) # get src and unquote from 16byte\n",
    "        src_split = src.split('&')\n",
    "        bbox_text = src_split[-3][5:]\n",
    "        coords = [float(i) for i in bbox_text.split(',')]\n",
    "        x, y = (coords[0]+coords[2])/2, (coords[1]+coords[3])/2 # center position\n",
    "        srs = src_split[-4][4:]\n",
    "        coord_ls.append([x, y])\n",
    "        srs_ls.append(srs)\n",
    "    return coord_ls, srs_ls"
   ]
  },
  {
   "cell_type": "code",
   "execution_count": null,
   "id": "85c64674",
   "metadata": {},
   "outputs": [],
   "source": [
    "#크롤링 진행\n",
    "coord,srs=crawling(cnt)\n",
    "coord=np.array(coord)"
   ]
  },
  {
   "cell_type": "code",
   "execution_count": null,
   "id": "4ee1a959",
   "metadata": {},
   "outputs": [],
   "source": [
    "#좌표 변환 함수\n",
    "import pyproj\n",
    "def project_array(coord, p1_type, p2_type):\n",
    "    \"\"\"\n",
    "    좌표계 변환 함수\n",
    "    - coord: x, y 좌표 정보가 담긴 NumPy Array\n",
    "    - p1_type: 입력 좌표계 정보 ex) epsg:5181\n",
    "    - p2_type: 출력 좌표계 정보 ex) epsg:4326\n",
    "    \"\"\"\n",
    "    p1 = pyproj.Proj(init=p1_type)\n",
    "    p2 = pyproj.Proj(init=p2_type)\n",
    "    fx, fy = pyproj.transform(p1, p2, coord[:, 0], coord[:, 1])\n",
    "    return np.dstack([fy, fx])[0]"
   ]
  },
  {
   "cell_type": "code",
   "execution_count": null,
   "id": "9caf3b55",
   "metadata": {},
   "outputs": [],
   "source": [
    "# 좌표계 정보 설정\n",
    "p1_type = \"epsg:5181\"\n",
    "p2_type = \"epsg:4326\"\n",
    "\n",
    "# project_array() 함수 실행\n",
    "result = project_array(coord, p1_type, p2_type)"
   ]
  },
  {
   "cell_type": "code",
   "execution_count": null,
   "id": "e23bcfd6",
   "metadata": {},
   "outputs": [],
   "source": [
    "df=pd.DataFrame(result,columns=['위도','경도'])"
   ]
  },
  {
   "cell_type": "code",
   "execution_count": null,
   "id": "4d66f2dc",
   "metadata": {},
   "outputs": [],
   "source": [
    "from PyKakao import Local\n",
    "api = Local(service_key = \"카카오API에서 발급받은 키\")"
   ]
  },
  {
   "cell_type": "code",
   "execution_count": null,
   "id": "990fd45a",
   "metadata": {},
   "outputs": [],
   "source": [
    "#사고지점 정보를 기반으로 행정동 정보 추출\n",
    "df['행정동']=None\n",
    "for i in range(0,len(df)):\n",
    "    hd=api.geo_coord2regioncode(df.iloc[i,1],df.iloc[i,0],dataframe=True)\n",
    "    df.iloc[i,2]=hd.iloc[1,5]"
   ]
  },
  {
   "cell_type": "code",
   "execution_count": null,
   "id": "af50c362",
   "metadata": {},
   "outputs": [],
   "source": [
    "#전처리 결과 데이터셋 생성\n",
    "df=pd.concat([final_df,df],axis=0)\n",
    "df.to_csv('사고 정보.csv',index=False,encoding='cp949')"
   ]
  }
 ],
 "metadata": {
  "kernelspec": {
   "display_name": "Python 3 (ipykernel)",
   "language": "python",
   "name": "python3"
  },
  "language_info": {
   "codemirror_mode": {
    "name": "ipython",
    "version": 3
   },
   "file_extension": ".py",
   "mimetype": "text/x-python",
   "name": "python",
   "nbconvert_exporter": "python",
   "pygments_lexer": "ipython3",
   "version": "3.9.13"
  }
 },
 "nbformat": 4,
 "nbformat_minor": 5
}
